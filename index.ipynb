{
 "cells": [
  {
   "cell_type": "markdown",
   "metadata": {},
   "source": [
    "# Measures of Dispersion - Quiz\n",
    "\n",
    "## Objectives\n",
    "You will be able to:\n",
    "* Describe the significance of calculating measures of dispersion for continuous data\n",
    "* Understand the formula and intuition behind mean absolute deviation, standard deviation and variance\n",
    "* Understand the formula and intuition behind quantiles/quartiles and percentiles\n",
    "* Understand and interpret Interquartile distances with box plots"
   ]
  },
  {
   "cell_type": "markdown",
   "metadata": {},
   "source": [
    "## Exercise 1\n",
    "Summary statistics for two samples of data are\n",
    "```\n",
    "Sample 1:\t\n",
    "mean = 19 \n",
    "variance = 10\n",
    "\n",
    "Sample 2:\t\n",
    "mean = 10\n",
    "variance = 19\n",
    "```\n",
    "Which sample has the larger spread of observations?"
   ]
  },
  {
   "cell_type": "code",
   "execution_count": 22,
   "metadata": {},
   "outputs": [],
   "source": [
    "# Your answer here \n",
    "# sample 2"
   ]
  },
  {
   "cell_type": "markdown",
   "metadata": {},
   "source": [
    "## Exercise 2\n",
    "Consider the following ordered set of data\n",
    "```\n",
    "4 4 4 9 5 0 5 1 5 3 5 7 5 8 6 2\n",
    "\n",
    "6 6 6 6 6 8 7 1 7 5 7 7 8 0 8 5\n",
    "```\n",
    "\n",
    "* What is the IQR? \n",
    "* Optional extension: Verify your answer in Python "
   ]
  },
  {
   "cell_type": "code",
   "execution_count": 3,
   "metadata": {},
   "outputs": [
    {
     "data": {
      "text/plain": [
       "(2.5, 4.5, 7.0)"
      ]
     },
     "execution_count": 3,
     "metadata": {},
     "output_type": "execute_result"
    }
   ],
   "source": [
    "# Your answer here \n",
    "test_list = [4, 4, 4, 9, 5, 0, 5, 1, 5, 3, 5, 7, 5, 8, 6, 2,\n",
    "       6, 6, 6, 6, 6, 8, 7, 1, 7, 5, 7, 7, 8, 0, 8, 5]\n",
    "def get_medain(val_list):\n",
    "    sort_vals = list(sorted(val_list,reverse=False))\n",
    "    n = len(val_list)\n",
    "    if n%2==1:\n",
    "        med_index = int((n) / 2)\n",
    "        return sort_vals[med_index]\n",
    "    else:\n",
    "        med_index = int((n+1) / 2)\n",
    "        return (sort_vals[med_index]+sort_vals[med_index+1])/2\n",
    "    \n",
    "\n",
    "def get_medain_index(val_list):\n",
    "    sort_vals = list(sorted(val_list,reverse=False))\n",
    "    n = len(val_list)\n",
    "    if n%2==1:\n",
    "        med_index = int((n) / 2)\n",
    "    else:\n",
    "        med_index = int((n+1) / 2)\n",
    "    return med_index\n",
    "\n",
    "def get_iqr(n_list):\n",
    "    \n",
    "    def get_iqr_even(n_list):\n",
    "        u_list = list(sorted(n_list, reverse=False))\n",
    "        med_index = get_medain_index(n_list)\n",
    "        q1_list = u_list[:med_index]\n",
    "        q3_list = u_list[med_index:]\n",
    "        q1_median = get_medain(q1_list)\n",
    "        q3_median = get_medain(q3_list)\n",
    "        iqr = q3_median - q1_median\n",
    "        return iqr, q1_median, q3_median\n",
    "\n",
    "    def get_iqr_odd(n_list):\n",
    "        u_list = list(sorted(n_list, reverse=False))\n",
    "        med_index = get_medain_index(n_list)\n",
    "        ommit_val = u_list[med_index]\n",
    "        q1_list = u_list[:med_index]\n",
    "        q3_list = u_list[med_index+1:]\n",
    "        q1_median = get_medain(q1_list)\n",
    "        q3_median = get_medain(q3_list)\n",
    "        iqr = q3_median - q1_median\n",
    "        return iqr, q1_median, q3_median\n",
    "    \n",
    "    if len(n_list)%2==0:\n",
    "        return get_iqr_even(n_list)\n",
    "    else:\n",
    "        return get_iqr_odd(n_list)\n",
    "iqr = get_iqr(test_list)\n",
    "iqr"
   ]
  },
  {
   "cell_type": "markdown",
   "metadata": {},
   "source": [
    "### Exercise 3\n",
    "Create a box-and-whisker plot for the judges' scores for an artist's performances in a talent competition.\n",
    "\n",
    "```\n",
    "Evan L\t52\n",
    "Nicole S  50\n",
    "Pamela A  47\n",
    "Chad O\t44\n",
    "Erin A\t39\n",
    "Jake P\t38\n",
    "Niecy N   36\n",
    "Kate G\t32\n",
    "```\n",
    "Create a box plot in matplotlib to identify the median for giving a final score to the artist. Are there any outliers ?"
   ]
  },
  {
   "cell_type": "code",
   "execution_count": 16,
   "metadata": {},
   "outputs": [
    {
     "data": {
      "image/png": "[encoded data removed]",
      "text/plain": [
       "<Figure size 432x288 with 1 Axes>"
      ]
     },
     "metadata": {},
     "output_type": "display_data"
    }
   ],
   "source": [
    "# Your answer here \n",
    "scores = [52,50,47,44,39,38,36,32]\n",
    "import matplotlib.pyplot as plt\n",
    "plt.style.use('ggplot')\n",
    "plt.boxplot(scores,showfliers=True)\n",
    "plt.title(\"Judge's Talent Scores\")\n",
    "plt.show()"
   ]
  },
  {
   "cell_type": "markdown",
   "metadata": {},
   "source": [
    "### Exercise 4\n",
    "Imagine that the number of marriages registered over a 10 year period were as follows:\n",
    "\n",
    "Table 1.  Number of registered marriages\n",
    "```\n",
    "Year  Number of marriages\n",
    "\n",
    "1\t40,650\n",
    "2\t40,812\n",
    "3\t41,300\n",
    "4\t41,450\n",
    "5\t39,594\n",
    "6\t40,734\n",
    "7\t39,993\n",
    "8\t38,814\n",
    "9\t37,828\n",
    "10   35,716\n",
    "```\n",
    "Using the data above:\n",
    "\n",
    "####  Find the median "
   ]
  },
  {
   "cell_type": "code",
   "execution_count": 2,
   "metadata": {},
   "outputs": [
    {
     "name": "stdout",
     "output_type": "stream",
     "text": [
      "Median No. Registered Marriage Per Year: 40692.0\n"
     ]
    }
   ],
   "source": [
    "#### Your answer here \n",
    "no_marriages = [40650,40812,41300, 41450, 39594, \n",
    "               40734, 3993, 38814, 37828, 35716]\n",
    "\n",
    "median_marriage = get_medain(no_marriages)\n",
    "print('Median No. Registered Marriage Per Year: {0}'.format(median_marriage))"
   ]
  },
  {
   "cell_type": "markdown",
   "metadata": {},
   "source": [
    "#### Find the upper and lower quartiles"
   ]
  },
  {
   "cell_type": "code",
   "execution_count": 26,
   "metadata": {},
   "outputs": [
    {
     "name": "stdout",
     "output_type": "stream",
     "text": [
      "Q1:37828, Q3:40812\n"
     ]
    }
   ],
   "source": [
    "# Q1 = 38.814 Q3 = 40.812 # Your answer here \n",
    "iqr = get_iqr(no_marriages)\n",
    "q1, q3 = iqr[1], iqr[2]\n",
    "print('Q1:{0}, Q3:{1}'.format(q1,q3))"
   ]
  },
  {
   "cell_type": "markdown",
   "metadata": {},
   "source": [
    "#### Calculate the interquartile range\n"
   ]
  },
  {
   "cell_type": "code",
   "execution_count": 27,
   "metadata": {},
   "outputs": [
    {
     "name": "stdout",
     "output_type": "stream",
     "text": [
      "IQR=2984\n"
     ]
    }
   ],
   "source": [
    "# Your answer here \n",
    "iqr_val = iqr[0]\n",
    "print('IQR={0}'.format(iqr_val))"
   ]
  },
  {
   "cell_type": "markdown",
   "metadata": {},
   "source": [
    "#### Plot a boxplot to verify your answers"
   ]
  },
  {
   "cell_type": "code",
   "execution_count": 32,
   "metadata": {},
   "outputs": [],
   "source": [
    "# Your answer here "
   ]
  }
 ],
 "metadata": {
  "kernelspec": {
   "display_name": "Python 3",
   "language": "python",
   "name": "python3"
  },
  "language_info": {
   "codemirror_mode": {
    "name": "ipython",
    "version": 3
   },
   "file_extension": ".py",
   "mimetype": "text/x-python",
   "name": "python",
   "nbconvert_exporter": "python",
   "pygments_lexer": "ipython3",
   "version": "3.6.4"
  }
 },
 "nbformat": 4,
 "nbformat_minor": 2
}
